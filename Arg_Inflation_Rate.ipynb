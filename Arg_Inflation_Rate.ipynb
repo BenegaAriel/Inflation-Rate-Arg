{
  "nbformat": 4,
  "nbformat_minor": 0,
  "metadata": {
    "colab": {
      "name": "Arg Inflation Rate.ipynb",
      "provenance": [],
      "authorship_tag": "ABX9TyO/wrufiETcwMmT6YQ44Ky5",
      "include_colab_link": true
    },
    "kernelspec": {
      "name": "python3",
      "display_name": "Python 3"
    }
  },
  "cells": [
    {
      "cell_type": "markdown",
      "metadata": {
        "id": "view-in-github",
        "colab_type": "text"
      },
      "source": [
        "<a href=\"https://colab.research.google.com/github/BenegaAriel/Inflation-Rate-Arg/blob/master/Arg_Inflation_Rate.ipynb\" target=\"_parent\"><img src=\"https://colab.research.google.com/assets/colab-badge.svg\" alt=\"Open In Colab\"/></a>"
      ]
    },
    {
      "cell_type": "markdown",
      "metadata": {
        "id": "hqeN98PpgdFm",
        "colab_type": "text"
      },
      "source": [
        "# Argentina Inflacion ultimos 52 meses"
      ]
    },
    {
      "cell_type": "code",
      "metadata": {
        "id": "Of_kGZptgjhS",
        "colab_type": "code",
        "colab": {}
      },
      "source": [
        "import pandas as pd\n",
        "import numpy as np\n",
        "import seaborn as sns\n",
        "import matplotlib.pyplot as plt\n",
        "%matplotlib inline\n",
        "from datetime import datetime"
      ],
      "execution_count": 0,
      "outputs": []
    },
    {
      "cell_type": "markdown",
      "metadata": {
        "id": "jzMHqKlZiDlm",
        "colab_type": "text"
      },
      "source": [
        "**Obtener informacion desde un archivo CSV**"
      ]
    },
    {
      "cell_type": "code",
      "metadata": {
        "id": "Lyf4-6Vah0yv",
        "colab_type": "code",
        "outputId": "27e66d4b-3697-4aa7-a88e-87148a609ffe",
        "colab": {
          "base_uri": "https://localhost:8080/",
          "height": 197
        }
      },
      "source": [
        "# Importar archivo con la informacion\n",
        "inflation1 = \"https://docs.google.com/spreadsheets/d/1VdHa0NabIb1X-g5sifJKgEViDPLe_esuVjiiDS-SUG4/edit#gid=0\"\n",
        "\n",
        "# Modificar la URL\n",
        "inflation2 = inflation1.replace('/edit#gid=', '/export?format=csv&gid=')\n",
        "\n",
        "# Leer el archivo con la informacion\n",
        "inflation3 = pd.read_csv(inflation2)\n",
        "\n",
        "# Mostrar la informacion en pantalla\n",
        "inflation3.head()"
      ],
      "execution_count": 0,
      "outputs": [
        {
          "output_type": "execute_result",
          "data": {
            "text/html": [
              "<div>\n",
              "<style scoped>\n",
              "    .dataframe tbody tr th:only-of-type {\n",
              "        vertical-align: middle;\n",
              "    }\n",
              "\n",
              "    .dataframe tbody tr th {\n",
              "        vertical-align: top;\n",
              "    }\n",
              "\n",
              "    .dataframe thead th {\n",
              "        text-align: right;\n",
              "    }\n",
              "</style>\n",
              "<table border=\"1\" class=\"dataframe\">\n",
              "  <thead>\n",
              "    <tr style=\"text-align: right;\">\n",
              "      <th></th>\n",
              "      <th>YEAR</th>\n",
              "      <th>MONTH</th>\n",
              "      <th>MONTH_NAME</th>\n",
              "      <th>DATE</th>\n",
              "      <th>INFLATION_RATE</th>\n",
              "    </tr>\n",
              "  </thead>\n",
              "  <tbody>\n",
              "    <tr>\n",
              "      <th>0</th>\n",
              "      <td>2016</td>\n",
              "      <td>1</td>\n",
              "      <td>Jan</td>\n",
              "      <td>2016-01-01</td>\n",
              "      <td>0.041</td>\n",
              "    </tr>\n",
              "    <tr>\n",
              "      <th>1</th>\n",
              "      <td>2016</td>\n",
              "      <td>2</td>\n",
              "      <td>Feb</td>\n",
              "      <td>2016-02-01</td>\n",
              "      <td>0.040</td>\n",
              "    </tr>\n",
              "    <tr>\n",
              "      <th>2</th>\n",
              "      <td>2016</td>\n",
              "      <td>3</td>\n",
              "      <td>Mar</td>\n",
              "      <td>2016-03-01</td>\n",
              "      <td>0.033</td>\n",
              "    </tr>\n",
              "    <tr>\n",
              "      <th>3</th>\n",
              "      <td>2016</td>\n",
              "      <td>4</td>\n",
              "      <td>Apr</td>\n",
              "      <td>2016-04-01</td>\n",
              "      <td>0.065</td>\n",
              "    </tr>\n",
              "    <tr>\n",
              "      <th>4</th>\n",
              "      <td>2016</td>\n",
              "      <td>5</td>\n",
              "      <td>May</td>\n",
              "      <td>2016-05-01</td>\n",
              "      <td>0.042</td>\n",
              "    </tr>\n",
              "  </tbody>\n",
              "</table>\n",
              "</div>"
            ],
            "text/plain": [
              "   YEAR  MONTH MONTH_NAME        DATE  INFLATION_RATE\n",
              "0  2016      1        Jan  2016-01-01           0.041\n",
              "1  2016      2        Feb  2016-02-01           0.040\n",
              "2  2016      3        Mar  2016-03-01           0.033\n",
              "3  2016      4        Apr  2016-04-01           0.065\n",
              "4  2016      5        May  2016-05-01           0.042"
            ]
          },
          "metadata": {
            "tags": []
          },
          "execution_count": 57
        }
      ]
    },
    {
      "cell_type": "markdown",
      "metadata": {
        "id": "pHM1EpV0ptAy",
        "colab_type": "text"
      },
      "source": [
        "**Bar Chart**"
      ]
    },
    {
      "cell_type": "code",
      "metadata": {
        "id": "eNumHoHypTfT",
        "colab_type": "code",
        "outputId": "7e102eb7-056e-4ed7-f656-a978eab00972",
        "colab": {
          "base_uri": "https://localhost:8080/",
          "height": 504
        }
      },
      "source": [
        "# Construyendo el Bar chart\n",
        "\n",
        "# Medidas\n",
        "plt.figure(figsize=(11,7))\n",
        "\n",
        "# Titulo\n",
        "plt.title('Inflacion Mensual Argentina Ultimos 52 meses')\n",
        "\n",
        "# Grafico\n",
        "ax = sns.barplot(inflation3.DATE, inflation3.INFLATION_RATE)\n",
        "ax.set_xticklabels(ax.get_xticklabels(), rotation=60, ha='right',)\n",
        "plt.show()"
      ],
      "execution_count": 0,
      "outputs": [
        {
          "output_type": "display_data",
          "data": {
            "image/png": "[encoded data removed]",
            "text/plain": [
              "<Figure size 792x504 with 1 Axes>"
            ]
          },
          "metadata": {
            "tags": [],
            "needs_background": "light"
          }
        }
      ]
    },
    {
      "cell_type": "markdown",
      "metadata": {
        "id": "EEnjWXZJiO2R",
        "colab_type": "text"
      },
      "source": [
        "**Crear una Matriz para luego poder generar el HeatMap**"
      ]
    },
    {
      "cell_type": "code",
      "metadata": {
        "id": "9NN5ldcwiWFz",
        "colab_type": "code",
        "outputId": "e719a286-3213-4e18-c273-a0a719465c85",
        "colab": {
          "base_uri": "https://localhost:8080/",
          "height": 437
        }
      },
      "source": [
        "# Convertir los datos a Matriz\n",
        "# Index = MONTH. Columns = YEAR. Values = INFLATION_RATE\n",
        "\n",
        "inflation4 = inflation3.pivot(\"MONTH\",\"YEAR\",\"INFLATION_RATE\") \n",
        "\n",
        "inflation4"
      ],
      "execution_count": 0,
      "outputs": [
        {
          "output_type": "execute_result",
          "data": {
            "text/html": [
              "<div>\n",
              "<style scoped>\n",
              "    .dataframe tbody tr th:only-of-type {\n",
              "        vertical-align: middle;\n",
              "    }\n",
              "\n",
              "    .dataframe tbody tr th {\n",
              "        vertical-align: top;\n",
              "    }\n",
              "\n",
              "    .dataframe thead th {\n",
              "        text-align: right;\n",
              "    }\n",
              "</style>\n",
              "<table border=\"1\" class=\"dataframe\">\n",
              "  <thead>\n",
              "    <tr style=\"text-align: right;\">\n",
              "      <th>YEAR</th>\n",
              "      <th>2016</th>\n",
              "      <th>2017</th>\n",
              "      <th>2018</th>\n",
              "      <th>2019</th>\n",
              "      <th>2020</th>\n",
              "    </tr>\n",
              "    <tr>\n",
              "      <th>MONTH</th>\n",
              "      <th></th>\n",
              "      <th></th>\n",
              "      <th></th>\n",
              "      <th></th>\n",
              "      <th></th>\n",
              "    </tr>\n",
              "  </thead>\n",
              "  <tbody>\n",
              "    <tr>\n",
              "      <th>1</th>\n",
              "      <td>0.041</td>\n",
              "      <td>0.013</td>\n",
              "      <td>0.018</td>\n",
              "      <td>0.029</td>\n",
              "      <td>0.023</td>\n",
              "    </tr>\n",
              "    <tr>\n",
              "      <th>2</th>\n",
              "      <td>0.040</td>\n",
              "      <td>0.025</td>\n",
              "      <td>0.024</td>\n",
              "      <td>0.038</td>\n",
              "      <td>0.020</td>\n",
              "    </tr>\n",
              "    <tr>\n",
              "      <th>3</th>\n",
              "      <td>0.033</td>\n",
              "      <td>0.024</td>\n",
              "      <td>0.023</td>\n",
              "      <td>0.047</td>\n",
              "      <td>0.033</td>\n",
              "    </tr>\n",
              "    <tr>\n",
              "      <th>4</th>\n",
              "      <td>0.065</td>\n",
              "      <td>0.026</td>\n",
              "      <td>0.027</td>\n",
              "      <td>0.034</td>\n",
              "      <td>0.015</td>\n",
              "    </tr>\n",
              "    <tr>\n",
              "      <th>5</th>\n",
              "      <td>0.042</td>\n",
              "      <td>0.013</td>\n",
              "      <td>0.021</td>\n",
              "      <td>0.031</td>\n",
              "      <td>NaN</td>\n",
              "    </tr>\n",
              "    <tr>\n",
              "      <th>6</th>\n",
              "      <td>0.031</td>\n",
              "      <td>0.012</td>\n",
              "      <td>0.037</td>\n",
              "      <td>0.027</td>\n",
              "      <td>NaN</td>\n",
              "    </tr>\n",
              "    <tr>\n",
              "      <th>7</th>\n",
              "      <td>0.020</td>\n",
              "      <td>0.017</td>\n",
              "      <td>0.031</td>\n",
              "      <td>0.022</td>\n",
              "      <td>NaN</td>\n",
              "    </tr>\n",
              "    <tr>\n",
              "      <th>8</th>\n",
              "      <td>0.002</td>\n",
              "      <td>0.014</td>\n",
              "      <td>0.039</td>\n",
              "      <td>0.040</td>\n",
              "      <td>NaN</td>\n",
              "    </tr>\n",
              "    <tr>\n",
              "      <th>9</th>\n",
              "      <td>0.011</td>\n",
              "      <td>0.019</td>\n",
              "      <td>0.065</td>\n",
              "      <td>0.059</td>\n",
              "      <td>NaN</td>\n",
              "    </tr>\n",
              "    <tr>\n",
              "      <th>10</th>\n",
              "      <td>0.024</td>\n",
              "      <td>0.015</td>\n",
              "      <td>0.054</td>\n",
              "      <td>0.033</td>\n",
              "      <td>NaN</td>\n",
              "    </tr>\n",
              "    <tr>\n",
              "      <th>11</th>\n",
              "      <td>0.016</td>\n",
              "      <td>0.014</td>\n",
              "      <td>0.032</td>\n",
              "      <td>0.043</td>\n",
              "      <td>NaN</td>\n",
              "    </tr>\n",
              "    <tr>\n",
              "      <th>12</th>\n",
              "      <td>0.012</td>\n",
              "      <td>0.031</td>\n",
              "      <td>0.026</td>\n",
              "      <td>0.037</td>\n",
              "      <td>NaN</td>\n",
              "    </tr>\n",
              "  </tbody>\n",
              "</table>\n",
              "</div>"
            ],
            "text/plain": [
              "YEAR    2016   2017   2018   2019   2020\n",
              "MONTH                                   \n",
              "1      0.041  0.013  0.018  0.029  0.023\n",
              "2      0.040  0.025  0.024  0.038  0.020\n",
              "3      0.033  0.024  0.023  0.047  0.033\n",
              "4      0.065  0.026  0.027  0.034  0.015\n",
              "5      0.042  0.013  0.021  0.031    NaN\n",
              "6      0.031  0.012  0.037  0.027    NaN\n",
              "7      0.020  0.017  0.031  0.022    NaN\n",
              "8      0.002  0.014  0.039  0.040    NaN\n",
              "9      0.011  0.019  0.065  0.059    NaN\n",
              "10     0.024  0.015  0.054  0.033    NaN\n",
              "11     0.016  0.014  0.032  0.043    NaN\n",
              "12     0.012  0.031  0.026  0.037    NaN"
            ]
          },
          "metadata": {
            "tags": []
          },
          "execution_count": 33
        }
      ]
    },
    {
      "cell_type": "markdown",
      "metadata": {
        "id": "iBGwpdBxj1mS",
        "colab_type": "text"
      },
      "source": [
        "**Heat Map**"
      ]
    },
    {
      "cell_type": "code",
      "metadata": {
        "id": "wf0lPK7_kbYt",
        "colab_type": "code",
        "outputId": "18cd0e8b-cc5f-4909-eaa1-d999758450d6",
        "colab": {
          "base_uri": "https://localhost:8080/",
          "height": 441
        }
      },
      "source": [
        "# Construyendo el Heat map\n",
        "\n",
        "# Medidas\n",
        "plt.figure(figsize=(8,6))\n",
        "\n",
        "# Titulo\n",
        "plt.title('Heatmap Inflacion Mensual Argentina Ultimos 52 meses')\n",
        "\n",
        "#Grafico\n",
        "ax = sns.heatmap(inflation4, annot= True, cmap='magma_r')\n",
        "ax.set_xticklabels(ax.get_xticklabels(), rotation=40, ha=\"right\",)\n",
        "plt.tight_layout()\n",
        "plt.show()"
      ],
      "execution_count": 0,
      "outputs": [
        {
          "output_type": "display_data",
          "data": {
            "image/png": "[encoded data removed]",
            "text/plain": [
              "<Figure size 576x432 with 2 Axes>"
            ]
          },
          "metadata": {
            "tags": [],
            "needs_background": "light"
          }
        }
      ]
    }
  ]
}